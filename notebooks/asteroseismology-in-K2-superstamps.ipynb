{
 "cells": [
  {
   "cell_type": "markdown",
   "metadata": {},
   "source": [
    "# Asteroseismology in K2 Superstamps"
   ]
  },
  {
   "cell_type": "markdown",
   "metadata": {},
   "source": [
    "Asteroseismology is a study of the \"quakes\" in a star. Kepler was famously excellent at asteroseismology, finding the high frequency oscillations of main sequence stars easily. K2 has been unable to do this as it only observes the same stars for 80 days. However, we the new C16 we now have a 3 year long baseline in the M67 and beehive clusters.\n",
    "\n",
    "\n",
    "### Asteroseismology \n",
    "Watch this talk from Dan Huber for a quick introduction to the topic.\n",
    "\n",
    "https://www.youtube.com/watch?v=Z5VsAiIiUvc"
   ]
  },
  {
   "cell_type": "markdown",
   "metadata": {},
   "source": [
    "## What's the problem?\n",
    "\n",
    "Superstamps can be hard to work with because they don't come in easily digestable TPFs. There is also a wealth of new data from C16 which makes the baseine in M67 and the beehive cluster **3 years**. This should let us make some great asteroseismology measurements. In this project we'll show that asteroseismology is possible with K2 in these superstamp regions. We'll also develop and implement some great tools for quickly plotting asteroseismology information for K2 and Kepler in `lightkurve`!\n",
    "\n",
    "* We'll use Gaia to find interesting targets and get prior estimates of stellar parameters\n",
    "* We'll use asteroseismology to measure stellar densities in the beehive and M67 and compare with age models and Gaia parameters."
   ]
  },
  {
   "cell_type": "markdown",
   "metadata": {},
   "source": [
    "## What is the goal of this project?\n",
    "\n",
    "**To show that asteroseisic parameters can be derived for main sequence stars using Kepler/K2 data**"
   ]
  },
  {
   "cell_type": "markdown",
   "metadata": {},
   "source": [
    "## You will need...\n",
    "\n",
    "A basic understanding of stars and asteroseismology. I'll give you some resources to help you, but you should be familiar with stellar lifecycles and asteroseismology in general to attempt this project.\n",
    "\n",
    "To begin with, over the first few weeks\n",
    "\n",
    "* Learn the basics of `lightkurve` and github. Fix one of the open issues that your supervisor will give you.\n",
    "* Learn the basics of the SFF routines in lightkurve by fitting a set of exoplanet host stars. What does each parameter do to the retrieved exoplanet parameters.\n",
    "* Use Gaia to build catalogs of stars in M67 and the beehive with prior parameters.\n",
    "* Use KeplerTargetPixelFileFactory to cut out interesting stars from all 3 quarters of Kepler data from the beehive/M67\n",
    "\n",
    "In the next few weeks, you should aim to\n",
    "\n",
    "* Create SAP and/or PSF lightcurves of the targets\n",
    "* Build routines to create power spectra of the lightcurves and create common asteroseismology plots (e.g. eschelle diagrams, power spectral density diagrams).\n",
    "* Use Gaia parameters to center the diagrams where we expect the power excess from the star. \n",
    "* Finding the fringes of the stellar oscillations can be hard automatically. Take a look at Guy Davies open PR on lightkurve and see if you can find a way to semi-automate the process.\n",
    "\n",
    "\n",
    "Once you have a working prototype of the extraction and plotting tools.\n",
    "\n",
    "* Build unit tests! All `lightkurve` routines need unit tests.\n",
    "* Build a tutorial. Make sure that your colleagues (and supervisor) can follow it. Take their feedback and apply any improvements. \n",
    "\n",
    "Once you have a stable version \n",
    "\n",
    "* Build a pipeline to process hundreds of stars at once.\n",
    "* Extract their stellar parameters, compare your findings to the Gaia parameters. What do you find? Do they match? Is there a systematic offset?\n",
    "* What is the sensitivity of the K2 superstamp in frequency space?\n",
    "* Build Kepler data of stars and remove sections of the data until it has the same duty cycle as the K2 data. How precise are our measurements? Is K2 as good as Kepler?"
   ]
  },
  {
   "cell_type": "markdown",
   "metadata": {},
   "source": [
    "## Some tools to help you\n",
    "\n",
    "If you are confused about any aspect of the Kepler telescope or any systematic, the first place to look is the [Kepler Instrument Handbook](https://archive.stsci.edu/kepler/manuals/KSCI-19033-001.pdf). It is a very large manual, but a quick search in it usually turns up the answer.\n",
    "\n",
    "I recommend reading [Demystifying Kepler Data](https://arxiv.org/pdf/1207.3093.pdf), which is a short read and easy to digest. This will explain a little about the systematics and how we use Cotrending Basis Vectors to correct for them.\n",
    "\n",
    "For this project, I recommend you read Andrew Vanderburg's paper on SFF. A nice gateway to this is Gully's excellent SFF tutorial, which you can watch [here](https://www.youtube.com/watch?v=kYRqZwz2VPU&t=28s).\n",
    "\n",
    "There aren't great packages available for asteroseismology with K2, but we have some tools in lightkurve to help you. You'll need to cut out TPFs using `KeplerTargetPixelFileFactory` and either perform SAP photometry or PSF photometry. (Why not both?) You can look at the open pull request on lightkurve from Dan Foreman-Mackay for tools for asteroseismology."
   ]
  }
 ],
 "metadata": {
  "kernelspec": {
   "display_name": "Python 3",
   "language": "python",
   "name": "python3"
  },
  "language_info": {
   "codemirror_mode": {
    "name": "ipython",
    "version": 3
   },
   "file_extension": ".py",
   "mimetype": "text/x-python",
   "name": "python",
   "nbconvert_exporter": "python",
   "pygments_lexer": "ipython3",
   "version": "3.6.5"
  }
 },
 "nbformat": 4,
 "nbformat_minor": 2
}
